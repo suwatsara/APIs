{
 "cells": [
  {
   "cell_type": "code",
   "execution_count": 1,
   "metadata": {},
   "outputs": [
    {
     "name": "stdout",
     "output_type": "stream",
     "text": [
      "Collecting dropbox\n",
      "  Downloading https://files.pythonhosted.org/packages/0c/12/8abc91fc7cc78c0c16a57f301b6f9e12136725a9ab5ea29d17d59ae0dfb4/dropbox-11.19.0-py3-none-any.whl (575kB)\n",
      "Requirement already satisfied: requests>=2.16.2 in c:\\users\\user\\anaconda3\\lib\\site-packages (from dropbox) (2.22.0)\n",
      "Collecting stone>=2.* (from dropbox)\n",
      "  Downloading https://files.pythonhosted.org/packages/b3/26/334b76000f0c09a61afb23c948d2f085bd4247cb30b252211e3af5833eae/stone-3.2.1-py3-none-any.whl (160kB)\n",
      "Requirement already satisfied: six>=1.12.0 in c:\\users\\user\\anaconda3\\lib\\site-packages (from dropbox) (1.12.0)\n",
      "Requirement already satisfied: certifi>=2017.4.17 in c:\\users\\user\\anaconda3\\lib\\site-packages (from requests>=2.16.2->dropbox) (2019.9.11)\n",
      "Requirement already satisfied: urllib3!=1.25.0,!=1.25.1,<1.26,>=1.21.1 in c:\\users\\user\\anaconda3\\lib\\site-packages (from requests>=2.16.2->dropbox) (1.24.2)\n",
      "Requirement already satisfied: idna<2.9,>=2.5 in c:\\users\\user\\anaconda3\\lib\\site-packages (from requests>=2.16.2->dropbox) (2.8)\n",
      "Requirement already satisfied: chardet<3.1.0,>=3.0.2 in c:\\users\\user\\anaconda3\\lib\\site-packages (from requests>=2.16.2->dropbox) (3.0.4)\n",
      "Requirement already satisfied: ply>=3.4 in c:\\users\\user\\anaconda3\\lib\\site-packages (from stone>=2.*->dropbox) (3.11)\n",
      "Installing collected packages: stone, dropbox\n",
      "Successfully installed dropbox-11.19.0 stone-3.2.1\n",
      "Note: you may need to restart the kernel to use updated packages.\n"
     ]
    }
   ],
   "source": [
    "pip install dropbox"
   ]
  },
  {
   "cell_type": "code",
   "execution_count": 21,
   "metadata": {},
   "outputs": [],
   "source": [
    "import dropbox"
   ]
  },
  {
   "cell_type": "code",
   "execution_count": 44,
   "metadata": {},
   "outputs": [],
   "source": [
    "dbx = dropbox.Dropbox('sl.A4M3qRfqq_K-z0jssKM8JBe-M6rEIMtOnQ3QN2XgaMc1B9tDMnnQfKqLer7EeGXuPbGkRWL9bSLsob2Gm0VRD5hKXqldE5w-oHwtEDkXyWzm7dcoh09NkHcTiqycImh7oGnUeK-xpjjw')"
   ]
  },
  {
   "cell_type": "code",
   "execution_count": 45,
   "metadata": {},
   "outputs": [
    {
     "data": {
      "text/plain": [
       "FullAccount(account_id='dbid:AAAklmuhP3snRPbmJR3BEP-mZ_YWMpGB8K8', account_type=AccountType('basic', None), country='TH', disabled=False, email='do.suwatsara_st@tni.ac.th', email_verified=True, is_paired=False, locale='en', name=Name(abbreviated_name='SD', display_name='suwatsara donkhunthod', familiar_name='suwatsara', given_name='suwatsara', surname='donkhunthod'), profile_photo_url='https://dl-web.dropbox.com/account_photo/get/dbaphid%3AAAAbM5oVJ_OQaZlRmpWnjDXMVaYT45zSg-g?size=128x128&vers=1631238287980', referral_link='https://www.dropbox.com/referrals/AADxAGOG-DED3Ph0tA2ze5WmEb6Q1_pPApA?src=app9-1965473', root_info=UserRootInfo(home_namespace_id='1971307393', root_namespace_id='1971307393'), team=NOT_SET, team_member_id=NOT_SET)"
      ]
     },
     "execution_count": 45,
     "metadata": {},
     "output_type": "execute_result"
    }
   ],
   "source": [
    "dbx.users_get_current_account()"
   ]
  },
  {
   "cell_type": "code",
   "execution_count": 46,
   "metadata": {},
   "outputs": [
    {
     "name": "stdout",
     "output_type": "stream",
     "text": [
      "Documents\n"
     ]
    }
   ],
   "source": [
    "for entry in dbx.files_list_folder('').entries:\n",
    "    print(entry.name)"
   ]
  },
  {
   "cell_type": "code",
   "execution_count": 48,
   "metadata": {},
   "outputs": [],
   "source": [
    "access_token = 'sl.A4M3qRfqq_K-z0jssKM8JBe-M6rEIMtOnQ3QN2XgaMc1B9tDMnnQfKqLer7EeGXuPbGkRWL9bSLsob2Gm0VRD5hKXqldE5w-oHwtEDkXyWzm7dcoh09NkHcTiqycImh7oGnUeK-xpjjw'\n",
    "file_from = 'Pictures/69400.jpg' \n",
    "file_to = '/Documents/69400.jpg'     \n",
    "def upload_file(file_from, file_to):\n",
    "    dbx = dropbox.Dropbox(access_token)\n",
    "    f = open(file_from, 'rb')\n",
    "    dbx.files_upload(f.read(), file_to)\n",
    "upload_file(file_from,file_to)"
   ]
  },
  {
   "cell_type": "code",
   "execution_count": 49,
   "metadata": {},
   "outputs": [
    {
     "name": "stdout",
     "output_type": "stream",
     "text": [
      "2021-09-10 02:27:53\n"
     ]
    }
   ],
   "source": [
    "print(dbx.files_get_metadata('/Documents/69400.jpg').server_modified)"
   ]
  },
  {
   "cell_type": "code",
   "execution_count": 50,
   "metadata": {},
   "outputs": [
    {
     "name": "stdout",
     "output_type": "stream",
     "text": [
      "Collecting settrade\n",
      "  Downloading https://files.pythonhosted.org/packages/9f/a4/a6868d7736ea5f689e7d62f5ebcfad082f6cfc5bcf612452778ed36a0101/settrade-0.4.1.tar.gz (88.0MB)\n",
      "Requirement already satisfied: numpy in c:\\users\\user\\anaconda3\\lib\\site-packages (from settrade) (1.21.2)\n",
      "Building wheels for collected packages: settrade\n",
      "  Building wheel for settrade (setup.py): started\n",
      "  Building wheel for settrade (setup.py): finished with status 'done'\n",
      "  Created wheel for settrade: filename=settrade-0.4.1-cp37-none-any.whl size=4588821 sha256=40279a4bb7c0bbfef645818beba97f16c38d0b4c9f0715b4c69cbf06ac543fed\n",
      "  Stored in directory: C:\\Users\\User\\AppData\\Local\\pip\\Cache\\wheels\\ee\\de\\c8\\811085da9ac8e62c4d994383fa5c7b55a074534a36efb89b8d\n",
      "Successfully built settrade\n",
      "Installing collected packages: settrade\n",
      "Successfully installed settrade-0.4.1\n",
      "Note: you may need to restart the kernel to use updated packages.\n"
     ]
    }
   ],
   "source": [
    "pip install settrade"
   ]
  },
  {
   "cell_type": "code",
   "execution_count": 42,
   "metadata": {},
   "outputs": [
    {
     "name": "stdout",
     "output_type": "stream",
     "text": [
      "Requirement already satisfied: requests in c:\\users\\user\\anaconda3\\lib\\site-packages (2.22.0)\n",
      "Requirement already satisfied: idna<2.9,>=2.5 in c:\\users\\user\\anaconda3\\lib\\site-packages (from requests) (2.8)\n",
      "Requirement already satisfied: chardet<3.1.0,>=3.0.2 in c:\\users\\user\\anaconda3\\lib\\site-packages (from requests) (3.0.4)\n",
      "Requirement already satisfied: certifi>=2017.4.17 in c:\\users\\user\\anaconda3\\lib\\site-packages (from requests) (2019.9.11)\n",
      "Requirement already satisfied: urllib3!=1.25.0,!=1.25.1,<1.26,>=1.21.1 in c:\\users\\user\\anaconda3\\lib\\site-packages (from requests) (1.24.2)\n",
      "Note: you may need to restart the kernel to use updated packages.\n"
     ]
    }
   ],
   "source": [
    "pip install requests"
   ]
  },
  {
   "cell_type": "code",
   "execution_count": 1,
   "metadata": {},
   "outputs": [],
   "source": [
    "import requests"
   ]
  },
  {
   "cell_type": "code",
   "execution_count": 2,
   "metadata": {},
   "outputs": [],
   "source": [
    "response = requests.get(\"https://datausa.io/api/data?drilldowns=Nation&measures=Population\")"
   ]
  },
  {
   "cell_type": "code",
   "execution_count": 3,
   "metadata": {},
   "outputs": [
    {
     "name": "stdout",
     "output_type": "stream",
     "text": [
      "200\n"
     ]
    }
   ],
   "source": [
    "print(response.status_code)"
   ]
  },
  {
   "cell_type": "code",
   "execution_count": 4,
   "metadata": {},
   "outputs": [
    {
     "name": "stdout",
     "output_type": "stream",
     "text": [
      "{'data': [{'ID Nation': '01000US', 'Nation': 'United States', 'ID Year': 2019, 'Year': '2019', 'Population': 328239523, 'Slug Nation': 'united-states'}, {'ID Nation': '01000US', 'Nation': 'United States', 'ID Year': 2018, 'Year': '2018', 'Population': 327167439, 'Slug Nation': 'united-states'}, {'ID Nation': '01000US', 'Nation': 'United States', 'ID Year': 2017, 'Year': '2017', 'Population': 325719178, 'Slug Nation': 'united-states'}, {'ID Nation': '01000US', 'Nation': 'United States', 'ID Year': 2016, 'Year': '2016', 'Population': 323127515, 'Slug Nation': 'united-states'}, {'ID Nation': '01000US', 'Nation': 'United States', 'ID Year': 2015, 'Year': '2015', 'Population': 321418821, 'Slug Nation': 'united-states'}, {'ID Nation': '01000US', 'Nation': 'United States', 'ID Year': 2014, 'Year': '2014', 'Population': 318857056, 'Slug Nation': 'united-states'}, {'ID Nation': '01000US', 'Nation': 'United States', 'ID Year': 2013, 'Year': '2013', 'Population': 316128839, 'Slug Nation': 'united-states'}], 'source': [{'measures': ['Population'], 'annotations': {'source_name': 'Census Bureau', 'source_description': 'The American Community Survey (ACS) is conducted by the US Census and sent to a portion of the population every year.', 'dataset_name': 'ACS 1-year Estimate', 'dataset_link': 'http://www.census.gov/programs-surveys/acs/', 'table_id': 'B01003', 'topic': 'Diversity', 'subtopic': 'Demographics'}, 'name': 'acs_yg_total_population_1', 'substitutions': []}]}\n"
     ]
    }
   ],
   "source": [
    "print(response.json())"
   ]
  },
  {
   "cell_type": "code",
   "execution_count": 10,
   "metadata": {},
   "outputs": [
    {
     "name": "stdout",
     "output_type": "stream",
     "text": [
      "{\n",
      "    \"data\": [\n",
      "        {\n",
      "            \"ID Nation\": \"01000US\",\n",
      "            \"ID Year\": 2019,\n",
      "            \"Nation\": \"United States\",\n",
      "            \"Population\": 328239523,\n",
      "            \"Slug Nation\": \"united-states\",\n",
      "            \"Year\": \"2019\"\n",
      "        },\n",
      "        {\n",
      "            \"ID Nation\": \"01000US\",\n",
      "            \"ID Year\": 2018,\n",
      "            \"Nation\": \"United States\",\n",
      "            \"Population\": 327167439,\n",
      "            \"Slug Nation\": \"united-states\",\n",
      "            \"Year\": \"2018\"\n",
      "        },\n",
      "        {\n",
      "            \"ID Nation\": \"01000US\",\n",
      "            \"ID Year\": 2017,\n",
      "            \"Nation\": \"United States\",\n",
      "            \"Population\": 325719178,\n",
      "            \"Slug Nation\": \"united-states\",\n",
      "            \"Year\": \"2017\"\n",
      "        },\n",
      "        {\n",
      "            \"ID Nation\": \"01000US\",\n",
      "            \"ID Year\": 2016,\n",
      "            \"Nation\": \"United States\",\n",
      "            \"Population\": 323127515,\n",
      "            \"Slug Nation\": \"united-states\",\n",
      "            \"Year\": \"2016\"\n",
      "        },\n",
      "        {\n",
      "            \"ID Nation\": \"01000US\",\n",
      "            \"ID Year\": 2015,\n",
      "            \"Nation\": \"United States\",\n",
      "            \"Population\": 321418821,\n",
      "            \"Slug Nation\": \"united-states\",\n",
      "            \"Year\": \"2015\"\n",
      "        },\n",
      "        {\n",
      "            \"ID Nation\": \"01000US\",\n",
      "            \"ID Year\": 2014,\n",
      "            \"Nation\": \"United States\",\n",
      "            \"Population\": 318857056,\n",
      "            \"Slug Nation\": \"united-states\",\n",
      "            \"Year\": \"2014\"\n",
      "        },\n",
      "        {\n",
      "            \"ID Nation\": \"01000US\",\n",
      "            \"ID Year\": 2013,\n",
      "            \"Nation\": \"United States\",\n",
      "            \"Population\": 316128839,\n",
      "            \"Slug Nation\": \"united-states\",\n",
      "            \"Year\": \"2013\"\n",
      "        }\n",
      "    ],\n",
      "    \"source\": [\n",
      "        {\n",
      "            \"annotations\": {\n",
      "                \"dataset_link\": \"http://www.census.gov/programs-surveys/acs/\",\n",
      "                \"dataset_name\": \"ACS 1-year Estimate\",\n",
      "                \"source_description\": \"The American Community Survey (ACS) is conducted by the US Census and sent to a portion of the population every year.\",\n",
      "                \"source_name\": \"Census Bureau\",\n",
      "                \"subtopic\": \"Demographics\",\n",
      "                \"table_id\": \"B01003\",\n",
      "                \"topic\": \"Diversity\"\n",
      "            },\n",
      "            \"measures\": [\n",
      "                \"Population\"\n",
      "            ],\n",
      "            \"name\": \"acs_yg_total_population_1\",\n",
      "            \"substitutions\": []\n",
      "        }\n",
      "    ]\n",
      "}\n"
     ]
    }
   ],
   "source": [
    "import json\n",
    "\n",
    "def jprint(obj):\n",
    "    # create a formatted string of the Python JSON object\n",
    "    text = json.dumps(obj, sort_keys=True, indent=4)\n",
    "    print(text)\n",
    "\n",
    "jprint(response.json())"
   ]
  },
  {
   "cell_type": "code",
   "execution_count": 11,
   "metadata": {},
   "outputs": [],
   "source": [
    "with open('datausa.json','w') as f:\n",
    "    json.dump(response.json(),f)"
   ]
  },
  {
   "cell_type": "code",
   "execution_count": 28,
   "metadata": {},
   "outputs": [],
   "source": [
    "import pandas as pd\n",
    "with open('datausa.json') as json_data:\n",
    "    data = json.load(json_data)\n",
    "\n",
    "data = data['data']\n",
    "\n"
   ]
  },
  {
   "cell_type": "code",
   "execution_count": 29,
   "metadata": {},
   "outputs": [
    {
     "data": {
      "text/plain": [
       "[{'ID Nation': '01000US',\n",
       "  'Nation': 'United States',\n",
       "  'ID Year': 2019,\n",
       "  'Year': '2019',\n",
       "  'Population': 328239523,\n",
       "  'Slug Nation': 'united-states'},\n",
       " {'ID Nation': '01000US',\n",
       "  'Nation': 'United States',\n",
       "  'ID Year': 2018,\n",
       "  'Year': '2018',\n",
       "  'Population': 327167439,\n",
       "  'Slug Nation': 'united-states'},\n",
       " {'ID Nation': '01000US',\n",
       "  'Nation': 'United States',\n",
       "  'ID Year': 2017,\n",
       "  'Year': '2017',\n",
       "  'Population': 325719178,\n",
       "  'Slug Nation': 'united-states'},\n",
       " {'ID Nation': '01000US',\n",
       "  'Nation': 'United States',\n",
       "  'ID Year': 2016,\n",
       "  'Year': '2016',\n",
       "  'Population': 323127515,\n",
       "  'Slug Nation': 'united-states'},\n",
       " {'ID Nation': '01000US',\n",
       "  'Nation': 'United States',\n",
       "  'ID Year': 2015,\n",
       "  'Year': '2015',\n",
       "  'Population': 321418821,\n",
       "  'Slug Nation': 'united-states'},\n",
       " {'ID Nation': '01000US',\n",
       "  'Nation': 'United States',\n",
       "  'ID Year': 2014,\n",
       "  'Year': '2014',\n",
       "  'Population': 318857056,\n",
       "  'Slug Nation': 'united-states'},\n",
       " {'ID Nation': '01000US',\n",
       "  'Nation': 'United States',\n",
       "  'ID Year': 2013,\n",
       "  'Year': '2013',\n",
       "  'Population': 316128839,\n",
       "  'Slug Nation': 'united-states'}]"
      ]
     },
     "execution_count": 29,
     "metadata": {},
     "output_type": "execute_result"
    }
   ],
   "source": [
    "data"
   ]
  },
  {
   "cell_type": "code",
   "execution_count": 44,
   "metadata": {},
   "outputs": [],
   "source": [
    "df = pd.DataFrame(data)"
   ]
  },
  {
   "cell_type": "code",
   "execution_count": 45,
   "metadata": {},
   "outputs": [
    {
     "data": {
      "text/html": [
       "<div>\n",
       "<style scoped>\n",
       "    .dataframe tbody tr th:only-of-type {\n",
       "        vertical-align: middle;\n",
       "    }\n",
       "\n",
       "    .dataframe tbody tr th {\n",
       "        vertical-align: top;\n",
       "    }\n",
       "\n",
       "    .dataframe thead th {\n",
       "        text-align: right;\n",
       "    }\n",
       "</style>\n",
       "<table border=\"1\" class=\"dataframe\">\n",
       "  <thead>\n",
       "    <tr style=\"text-align: right;\">\n",
       "      <th></th>\n",
       "      <th>ID Nation</th>\n",
       "      <th>Nation</th>\n",
       "      <th>ID Year</th>\n",
       "      <th>Year</th>\n",
       "      <th>Population</th>\n",
       "      <th>Slug Nation</th>\n",
       "    </tr>\n",
       "  </thead>\n",
       "  <tbody>\n",
       "    <tr>\n",
       "      <th>0</th>\n",
       "      <td>01000US</td>\n",
       "      <td>United States</td>\n",
       "      <td>2019</td>\n",
       "      <td>2019</td>\n",
       "      <td>328239523</td>\n",
       "      <td>united-states</td>\n",
       "    </tr>\n",
       "    <tr>\n",
       "      <th>1</th>\n",
       "      <td>01000US</td>\n",
       "      <td>United States</td>\n",
       "      <td>2018</td>\n",
       "      <td>2018</td>\n",
       "      <td>327167439</td>\n",
       "      <td>united-states</td>\n",
       "    </tr>\n",
       "    <tr>\n",
       "      <th>2</th>\n",
       "      <td>01000US</td>\n",
       "      <td>United States</td>\n",
       "      <td>2017</td>\n",
       "      <td>2017</td>\n",
       "      <td>325719178</td>\n",
       "      <td>united-states</td>\n",
       "    </tr>\n",
       "    <tr>\n",
       "      <th>3</th>\n",
       "      <td>01000US</td>\n",
       "      <td>United States</td>\n",
       "      <td>2016</td>\n",
       "      <td>2016</td>\n",
       "      <td>323127515</td>\n",
       "      <td>united-states</td>\n",
       "    </tr>\n",
       "    <tr>\n",
       "      <th>4</th>\n",
       "      <td>01000US</td>\n",
       "      <td>United States</td>\n",
       "      <td>2015</td>\n",
       "      <td>2015</td>\n",
       "      <td>321418821</td>\n",
       "      <td>united-states</td>\n",
       "    </tr>\n",
       "  </tbody>\n",
       "</table>\n",
       "</div>"
      ],
      "text/plain": [
       "  ID Nation         Nation  ID Year  Year  Population    Slug Nation\n",
       "0   01000US  United States     2019  2019   328239523  united-states\n",
       "1   01000US  United States     2018  2018   327167439  united-states\n",
       "2   01000US  United States     2017  2017   325719178  united-states\n",
       "3   01000US  United States     2016  2016   323127515  united-states\n",
       "4   01000US  United States     2015  2015   321418821  united-states"
      ]
     },
     "execution_count": 45,
     "metadata": {},
     "output_type": "execute_result"
    }
   ],
   "source": [
    "df.head()"
   ]
  },
  {
   "cell_type": "code",
   "execution_count": 46,
   "metadata": {},
   "outputs": [
    {
     "data": {
      "text/plain": [
       "Index(['ID Nation', 'Nation', 'ID Year', 'Year', 'Population', 'Slug Nation'], dtype='object')"
      ]
     },
     "execution_count": 46,
     "metadata": {},
     "output_type": "execute_result"
    }
   ],
   "source": [
    "df.columns"
   ]
  },
  {
   "cell_type": "code",
   "execution_count": 47,
   "metadata": {},
   "outputs": [],
   "source": [
    "df.drop(columns=['ID Year', 'Slug Nation'], inplace= True)"
   ]
  },
  {
   "cell_type": "code",
   "execution_count": 48,
   "metadata": {},
   "outputs": [
    {
     "data": {
      "text/html": [
       "<div>\n",
       "<style scoped>\n",
       "    .dataframe tbody tr th:only-of-type {\n",
       "        vertical-align: middle;\n",
       "    }\n",
       "\n",
       "    .dataframe tbody tr th {\n",
       "        vertical-align: top;\n",
       "    }\n",
       "\n",
       "    .dataframe thead th {\n",
       "        text-align: right;\n",
       "    }\n",
       "</style>\n",
       "<table border=\"1\" class=\"dataframe\">\n",
       "  <thead>\n",
       "    <tr style=\"text-align: right;\">\n",
       "      <th></th>\n",
       "      <th>ID Nation</th>\n",
       "      <th>Nation</th>\n",
       "      <th>Year</th>\n",
       "      <th>Population</th>\n",
       "    </tr>\n",
       "  </thead>\n",
       "  <tbody>\n",
       "    <tr>\n",
       "      <th>0</th>\n",
       "      <td>01000US</td>\n",
       "      <td>United States</td>\n",
       "      <td>2019</td>\n",
       "      <td>328239523</td>\n",
       "    </tr>\n",
       "    <tr>\n",
       "      <th>1</th>\n",
       "      <td>01000US</td>\n",
       "      <td>United States</td>\n",
       "      <td>2018</td>\n",
       "      <td>327167439</td>\n",
       "    </tr>\n",
       "    <tr>\n",
       "      <th>2</th>\n",
       "      <td>01000US</td>\n",
       "      <td>United States</td>\n",
       "      <td>2017</td>\n",
       "      <td>325719178</td>\n",
       "    </tr>\n",
       "    <tr>\n",
       "      <th>3</th>\n",
       "      <td>01000US</td>\n",
       "      <td>United States</td>\n",
       "      <td>2016</td>\n",
       "      <td>323127515</td>\n",
       "    </tr>\n",
       "    <tr>\n",
       "      <th>4</th>\n",
       "      <td>01000US</td>\n",
       "      <td>United States</td>\n",
       "      <td>2015</td>\n",
       "      <td>321418821</td>\n",
       "    </tr>\n",
       "  </tbody>\n",
       "</table>\n",
       "</div>"
      ],
      "text/plain": [
       "  ID Nation         Nation  Year  Population\n",
       "0   01000US  United States  2019   328239523\n",
       "1   01000US  United States  2018   327167439\n",
       "2   01000US  United States  2017   325719178\n",
       "3   01000US  United States  2016   323127515\n",
       "4   01000US  United States  2015   321418821"
      ]
     },
     "execution_count": 48,
     "metadata": {},
     "output_type": "execute_result"
    }
   ],
   "source": [
    "df.head()"
   ]
  },
  {
   "cell_type": "code",
   "execution_count": null,
   "metadata": {},
   "outputs": [],
   "source": []
  }
 ],
 "metadata": {
  "kernelspec": {
   "display_name": "Python 3",
   "language": "python",
   "name": "python3"
  },
  "language_info": {
   "codemirror_mode": {
    "name": "ipython",
    "version": 3
   },
   "file_extension": ".py",
   "mimetype": "text/x-python",
   "name": "python",
   "nbconvert_exporter": "python",
   "pygments_lexer": "ipython3",
   "version": "3.7.4"
  }
 },
 "nbformat": 4,
 "nbformat_minor": 4
}
